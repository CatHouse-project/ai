{
 "cells": [
  {
   "cell_type": "code",
   "id": "initial_id",
   "metadata": {
    "collapsed": true,
    "ExecuteTime": {
     "end_time": "2024-10-26T05:05:03.633207Z",
     "start_time": "2024-10-26T05:05:03.631200Z"
    }
   },
   "source": [
    "import json\n",
    "import random\n"
   ],
   "outputs": [],
   "execution_count": 2
  },
  {
   "metadata": {
    "ExecuteTime": {
     "end_time": "2024-10-26T05:32:21.941864Z",
     "start_time": "2024-10-26T05:32:21.839583Z"
    }
   },
   "cell_type": "code",
   "source": [
    "# Define the number of questions and answer choices\n",
    "num_questions = 25\n",
    "num_samples = 1800\n",
    "\n",
    "# Set to keep track of unique 6-digit user_ids\n",
    "unique_user_ids = set()\n",
    "\n",
    "\n",
    "# Function to generate a unique 6-digit user_id\n",
    "def generate_user_id():\n",
    "    user_id = random.randint(100000, 999999)\n",
    "    while user_id in unique_user_ids:\n",
    "        user_id = random.randint(100000, 999999)\n",
    "    unique_user_ids.add(user_id)\n",
    "    return user_id\n",
    "\n",
    "# Lists for different user data groups\n",
    "users = []\n",
    "M_2, M_3, M_4 = [], [], []\n",
    "F_2, F_3, F_4 = [], [], []\n",
    "\n",
    "# 1800개 데이터 생성\n",
    "for i in range(1, num_samples + 1):\n",
    "    # Generate random user info\n",
    "    user_id = generate_user_id()\n",
    "    gender = random.choice(['M', 'F'])\n",
    "    room_type = random.choice([2, 3, 4])\n",
    "    \n",
    "    # Add to users list for information.json\n",
    "    user_info = {\n",
    "        \"user_id\": user_id,\n",
    "        \"gender\": gender,\n",
    "        \"room_type\": room_type\n",
    "    }\n",
    "    users.append(user_info)\n",
    "\n",
    "    # 이부분을 수정하면 될 것 같습니다.\n",
    "    responses = {f\"question_{q+1}\": random.randint(1, 3) for q in range(num_questions)}\n",
    "    response_entry = {\n",
    "        \"id\": i,\n",
    "        \"user_id\": user_id,\n",
    "        **responses\n",
    "    }\n",
    "\n",
    "    # Classify and add to appropriate group based on gender and room type\n",
    "    if gender == 'M':\n",
    "        if room_type == 2:\n",
    "            M_2.append(response_entry)\n",
    "        elif room_type == 3:\n",
    "            M_3.append(response_entry)\n",
    "        elif room_type == 4:\n",
    "            M_4.append(response_entry)\n",
    "    else:\n",
    "        if room_type == 2:\n",
    "            F_2.append(response_entry)\n",
    "        elif room_type == 3:\n",
    "            F_3.append(response_entry)\n",
    "        elif room_type == 4:\n",
    "            F_4.append(response_entry)\n",
    "\n",
    "# Save user information to information.json\n",
    "info_file_path = 'information.json'\n",
    "with open(info_file_path, 'w') as file:\n",
    "    json.dump(users, file, indent=4)\n",
    "\n",
    "print(f\"User information saved to {info_file_path}\")\n",
    "\n",
    "# Save responses to separate JSON files by gender and room type\n",
    "response_groups = {\n",
    "    \"male_2\": M_2,\n",
    "    \"male_3\": M_3,\n",
    "    \"male_4\": M_4,\n",
    "    \"female_2\": F_2,\n",
    "    \"female_3\": F_3,\n",
    "    \"female_4\": F_4\n",
    "}\n",
    "\n",
    "for group, responses in response_groups.items():\n",
    "    output_file_path = f\"{group}.json\"\n",
    "    with open(output_file_path, 'w') as file:\n",
    "        json.dump(responses, file, indent=4)\n",
    "    print(f\"Responses saved to {output_file_path}\")"
   ],
   "id": "fdb0d0aec9e89ed2",
   "outputs": [
    {
     "name": "stdout",
     "output_type": "stream",
     "text": [
      "User information saved to information.json\n",
      "Responses saved to male_2.json\n",
      "Responses saved to male_3.json\n",
      "Responses saved to male_4.json\n",
      "Responses saved to female_2.json\n",
      "Responses saved to female_3.json\n",
      "Responses saved to female_4.json\n"
     ]
    }
   ],
   "execution_count": 4
  },
  {
   "metadata": {},
   "cell_type": "code",
   "outputs": [],
   "execution_count": null,
   "source": "",
   "id": "3a89f573007c28a"
  }
 ],
 "metadata": {
  "kernelspec": {
   "display_name": "Python 3",
   "language": "python",
   "name": "python3"
  },
  "language_info": {
   "codemirror_mode": {
    "name": "ipython",
    "version": 2
   },
   "file_extension": ".py",
   "mimetype": "text/x-python",
   "name": "python",
   "nbconvert_exporter": "python",
   "pygments_lexer": "ipython2",
   "version": "2.7.6"
  }
 },
 "nbformat": 4,
 "nbformat_minor": 5
}
