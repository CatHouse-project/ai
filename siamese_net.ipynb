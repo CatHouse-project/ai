{
 "cells": [
  {
   "cell_type": "code",
   "id": "initial_id",
   "metadata": {
    "collapsed": true,
    "ExecuteTime": {
     "end_time": "2024-10-25T11:38:14.757604Z",
     "start_time": "2024-10-25T11:38:14.745565Z"
    }
   },
   "source": [
    "import json\n",
    "import torch\n",
    "import torch.nn as nn\n",
    "import torch.optim as optim\n",
    "from sklearn.model_selection import train_test_split\n",
    "import numpy as np\n",
    "from scipy.spatial.distance import cosine"
   ],
   "outputs": [],
   "execution_count": 22
  },
  {
   "metadata": {
    "ExecuteTime": {
     "end_time": "2024-10-25T11:56:20.566772Z",
     "start_time": "2024-10-25T11:56:20.225341Z"
    }
   },
   "cell_type": "code",
   "source": [
    "# Load JSON data\n",
    "data_path = 'data//random_survey_responses.json'\n",
    "with open(data_path, 'r') as file:\n",
    "    raw_data = json.load(file)"
   ],
   "id": "761acbcd5c688ee6",
   "outputs": [],
   "execution_count": 66
  },
  {
   "metadata": {
    "ExecuteTime": {
     "end_time": "2024-10-25T11:56:20.629232Z",
     "start_time": "2024-10-25T11:56:20.569796Z"
    }
   },
   "cell_type": "code",
   "source": [
    "# Extract responses in a structured format\n",
    "def preprocess_responses(raw_data):\n",
    "    # Extract each response and convert answers to tensor format\n",
    "    return torch.tensor([[entry['responses'][i]['question_answer'] for i in range(30)] for entry in raw_data])\n",
    "\n",
    "# Convert loaded JSON data to tensor format\n",
    "data_tensor = preprocess_responses(raw_data)\n",
    "train_tensor, test_tensor = train_test_split(data_tensor, test_size=0.2, random_state=42)\n"
   ],
   "id": "d37f47fc004e3f01",
   "outputs": [],
   "execution_count": 67
  },
  {
   "metadata": {
    "ExecuteTime": {
     "end_time": "2024-10-25T12:06:17.391617Z",
     "start_time": "2024-10-25T12:06:17.375528Z"
    }
   },
   "cell_type": "code",
   "source": [
    "# Define model parameters\n",
    "num_questions = 30\n",
    "embedding_dim = 16\n",
    "learning_rate = 0.0005\n",
    "num_epochs = 5"
   ],
   "id": "2134f87fccb9428a",
   "outputs": [],
   "execution_count": 82
  },
  {
   "metadata": {
    "ExecuteTime": {
     "end_time": "2024-10-25T12:06:17.779148Z",
     "start_time": "2024-10-25T12:06:17.774446Z"
    }
   },
   "cell_type": "code",
   "source": [
    "\n",
    "# Define the Siamese Network\n",
    "class SiameseNetwork(nn.Module):\n",
    "    def __init__(self, input_size, embedding_dim):\n",
    "        super(SiameseNetwork, self).__init__()\n",
    "        self.embedding = nn.Embedding(4, embedding_dim)  # For answers 1, 2, 3\n",
    "        self.fc1 = nn.Linear(input_size * embedding_dim, 128)\n",
    "        self.fc2 = nn.Linear(128, 64)\n",
    "        self.fc3 = nn.Linear(64, 32)\n",
    "\n",
    "    def forward(self, x, weights=None):\n",
    "        x = self.embedding(x)  # Embed each question response\n",
    "        if weights is not None:\n",
    "            x = x * weights.unsqueeze(-1)  # Apply weights to each embedded dimension\n",
    "        x = x.view(x.size(0), -1)  # Flatten\n",
    "        x = torch.relu(self.fc1(x))\n",
    "        x = torch.relu(self.fc2(x))\n",
    "        return self.fc3(x)  # Output 32-dimensional vector"
   ],
   "id": "bacd7f660142ddee",
   "outputs": [],
   "execution_count": 83
  },
  {
   "metadata": {
    "ExecuteTime": {
     "end_time": "2024-10-25T12:06:18.526371Z",
     "start_time": "2024-10-25T12:06:18.516965Z"
    }
   },
   "cell_type": "code",
   "source": [
    "# Initialize model and optimizer\n",
    "model = SiameseNetwork(num_questions, embedding_dim)\n",
    "criterion = nn.MSELoss()\n",
    "optimizer = optim.Adam(model.parameters(), lr=learning_rate)"
   ],
   "id": "e2a82ae93c623a70",
   "outputs": [],
   "execution_count": 84
  },
  {
   "metadata": {
    "ExecuteTime": {
     "end_time": "2024-10-25T12:06:19.507925Z",
     "start_time": "2024-10-25T12:06:19.372383Z"
    }
   },
   "cell_type": "code",
   "source": [
    "\n",
    "# Dummy training function for Siamese Network\n",
    "for epoch in range(num_epochs):\n",
    "    model.train()\n",
    "    optimizer.zero_grad()\n",
    "    embeddings = model(train_tensor)\n",
    "    loss = criterion(embeddings, embeddings)  # Using self-pair loss for simplicity\n",
    "    loss.backward()\n",
    "    optimizer.step()\n",
    "    print(f\"Epoch [{epoch+1}/{num_epochs}], Loss: {loss.item():.4f}\")\n"
   ],
   "id": "4f09f9fa581d26d1",
   "outputs": [
    {
     "name": "stdout",
     "output_type": "stream",
     "text": [
      "Epoch [1/5], Loss: 0.0000\n",
      "Epoch [2/5], Loss: 0.0000\n",
      "Epoch [3/5], Loss: 0.0000\n",
      "Epoch [4/5], Loss: 0.0000\n",
      "Epoch [5/5], Loss: 0.0000\n"
     ]
    }
   ],
   "execution_count": 85
  },
  {
   "metadata": {
    "ExecuteTime": {
     "end_time": "2024-10-25T12:06:21.125096Z",
     "start_time": "2024-10-25T12:06:21.106908Z"
    }
   },
   "cell_type": "code",
   "source": [
    "# Function to find similar users\n",
    "def find_similar_users(user_id, core_questions, core_weight, num_results):\n",
    "    # Find requested user from raw_data\n",
    "    requested_user = next((user for user in raw_data if user[\"user\"] == user_id), None)\n",
    "    if requested_user is None:\n",
    "        print(\"User not found.\")\n",
    "        return []\n",
    "    \n",
    "    # Convert requested user's responses to tensor format\n",
    "    user_tensor = torch.tensor([requested_user['responses'][i]['question_answer'] for i in range(num_questions)]).unsqueeze(0)\n",
    "    \n",
    "    # Create weights tensor with higher weights for core questions\n",
    "    weights = torch.ones(num_questions)  # Set default weight to 1 for all questions\n",
    "    for q in core_questions:\n",
    "        weights[q - 1] = core_weight  # Set higher weight for core questions\n",
    "\n",
    "    # Get embeddings of requested user and all users in the dataset with weights applied\n",
    "    user_embedding = model(user_tensor, weights=weights)\n",
    "    all_embeddings = model(train_tensor, weights=weights)\n",
    "\n",
    "    # Calculate cosine similarity between requested user and all users in the dataset\n",
    "    similarities = [1 - cosine(user_embedding.detach().numpy().flatten(), e.detach().numpy().flatten())\n",
    "                    for e in all_embeddings]\n",
    "    \n",
    "    # Get top N similar users based on similarity scores\n",
    "    top_indices = np.argsort(similarities)[-num_results:]\n",
    "    similar_user_ids = [raw_data[i][\"user\"] for i in top_indices]\n",
    "    \n",
    "    return similar_user_ids"
   ],
   "id": "1def062d05d6a887",
   "outputs": [],
   "execution_count": 86
  },
  {
   "metadata": {
    "ExecuteTime": {
     "end_time": "2024-10-25T12:06:23.049308Z",
     "start_time": "2024-10-25T12:06:22.929327Z"
    }
   },
   "cell_type": "code",
   "source": [
    "# Example usage\n",
    "user_id = 893539  # Example user_id to search in the JSON data\n",
    "core_questions = [1, 5, 10, 22, 30]  # Important question numbers\n",
    "core_weight = 10.0  # High weight for core questions\n",
    "num_results = 5\n",
    "\n",
    "similar_user_ids= find_similar_users(user_id, core_questions, core_weight, num_results)\n",
    "print(similar_user_ids)"
   ],
   "id": "9f6836d3b7fe1274",
   "outputs": [
    {
     "name": "stdout",
     "output_type": "stream",
     "text": [
      "[680444, 681543, 459694, 853841, 824144]\n"
     ]
    }
   ],
   "execution_count": 87
  },
  {
   "metadata": {
    "ExecuteTime": {
     "end_time": "2024-10-25T12:06:31.389624Z",
     "start_time": "2024-10-25T12:06:31.369940Z"
    }
   },
   "cell_type": "code",
   "source": [
    "# Function to calculate similarity percentages for core and non-core questions\n",
    "def calculate_similarity(user_id_A, user_id_B, core_questions):\n",
    "    # Retrieve responses for both users\n",
    "    user_A = next((user for user in raw_data if user[\"user\"] == user_id_A), None)\n",
    "    user_B = next((user for user in raw_data if user[\"user\"] == user_id_B), None)\n",
    "    \n",
    "    if user_A is None or user_B is None:\n",
    "        print(f\"One of the users {user_id_A} or {user_id_B} was not found.\")\n",
    "        return\n",
    "    \n",
    "    # Extract answers for both users\n",
    "    answers_A = [resp[\"question_answer\"] for resp in user_A[\"responses\"]]\n",
    "    answers_B = [resp[\"question_answer\"] for resp in user_B[\"responses\"]]\n",
    "    \n",
    "    # Calculate core and non-core question similarities\n",
    "    core_matches = sum(1 for q in core_questions if answers_A[q - 1] == answers_B[q - 1])\n",
    "    non_core_matches = sum(1 for q in range(1, num_questions + 1) if q not in core_questions and answers_A[q - 1] == answers_B[q - 1])\n",
    "    \n",
    "    # Calculate percentages\n",
    "    core_percentage = (core_matches / len(core_questions)) * 100\n",
    "    non_core_percentage = (non_core_matches / (num_questions - len(core_questions))) * 100\n",
    "    \n",
    "    # Print results\n",
    "    print(f\"Similarity between user {user_id_A} and user {user_id_B}:\")\n",
    "    print(f\"  Core questions match: {core_percentage:.2f}%\")\n",
    "    print(f\"  Non-core questions match: {non_core_percentage:.2f}%\\n\")\n",
    "\n",
    "# Example usage: Run similarity check 5 times\n",
    "for i in range(5):\n",
    "    if i < len(similar_user_ids):\n",
    "        calculate_similarity(user_id, similar_user_ids[i], core_questions)"
   ],
   "id": "4da56abe5596e7f7",
   "outputs": [
    {
     "name": "stdout",
     "output_type": "stream",
     "text": [
      "Similarity between user 893539 and user 680444:\n",
      "  Core questions match: 0.00%\n",
      "  Non-core questions match: 20.00%\n",
      "\n",
      "Similarity between user 893539 and user 681543:\n",
      "  Core questions match: 40.00%\n",
      "  Non-core questions match: 40.00%\n",
      "\n",
      "Similarity between user 893539 and user 459694:\n",
      "  Core questions match: 20.00%\n",
      "  Non-core questions match: 36.00%\n",
      "\n",
      "Similarity between user 893539 and user 853841:\n",
      "  Core questions match: 40.00%\n",
      "  Non-core questions match: 40.00%\n",
      "\n",
      "Similarity between user 893539 and user 824144:\n",
      "  Core questions match: 20.00%\n",
      "  Non-core questions match: 36.00%\n",
      "\n"
     ]
    }
   ],
   "execution_count": 88
  },
  {
   "metadata": {},
   "cell_type": "code",
   "outputs": [],
   "execution_count": null,
   "source": "",
   "id": "219ff5614a29caf9"
  }
 ],
 "metadata": {
  "kernelspec": {
   "display_name": "Python 3",
   "language": "python",
   "name": "python3"
  },
  "language_info": {
   "codemirror_mode": {
    "name": "ipython",
    "version": 2
   },
   "file_extension": ".py",
   "mimetype": "text/x-python",
   "name": "python",
   "nbconvert_exporter": "python",
   "pygments_lexer": "ipython2",
   "version": "2.7.6"
  }
 },
 "nbformat": 4,
 "nbformat_minor": 5
}
