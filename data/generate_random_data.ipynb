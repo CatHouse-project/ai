{
 "cells": [
  {
   "cell_type": "code",
   "id": "initial_id",
   "metadata": {
    "collapsed": true,
    "ExecuteTime": {
     "end_time": "2024-10-25T11:14:42.310204Z",
     "start_time": "2024-10-25T11:14:42.292086Z"
    }
   },
   "source": [
    "import json\n",
    "import random\n"
   ],
   "outputs": [],
   "execution_count": 1
  },
  {
   "metadata": {
    "ExecuteTime": {
     "end_time": "2024-10-25T12:06:01.883907Z",
     "start_time": "2024-10-25T12:05:44.839917Z"
    }
   },
   "cell_type": "code",
   "source": [
    "# Define the number of questions and answer choices\n",
    "num_questions = 30\n",
    "num_samples = 100000\n",
    "\n",
    "# Generate random survey responses with id, user_id, and question-answer structure\n",
    "data = []\n",
    "for i in range(1, num_samples + 1):\n",
    "    # Generate a random 6-digit user_id\n",
    "    user_id = random.randint(100000, 999999)\n",
    "    # Generate answers for each question and structure as question-answer pairs\n",
    "    responses = [{\"question_number\": int(j+1), \"question_answer\": random.randint(1, 3)} for j in range(num_questions)]\n",
    "    \n",
    "    # Combine into a single response structure\n",
    "    response = {\n",
    "        \"id\": i,\n",
    "        \"user\": user_id,\n",
    "        \"responses\": responses\n",
    "    }\n",
    "    data.append(response)\n",
    "\n",
    "# Save to JSON file\n",
    "output_file_path = 'random_survey_responses.json'\n",
    "with open(output_file_path, 'w') as file:\n",
    "    json.dump(data, file, indent=4)\n",
    "\n",
    "print(f\"Data saved to {output_file_path}\")\n"
   ],
   "id": "fdb0d0aec9e89ed2",
   "outputs": [
    {
     "name": "stdout",
     "output_type": "stream",
     "text": [
      "Data saved to random_survey_responses.json\n"
     ]
    }
   ],
   "execution_count": 11
  },
  {
   "metadata": {},
   "cell_type": "code",
   "outputs": [],
   "execution_count": null,
   "source": "",
   "id": "3a89f573007c28a"
  }
 ],
 "metadata": {
  "kernelspec": {
   "display_name": "Python 3",
   "language": "python",
   "name": "python3"
  },
  "language_info": {
   "codemirror_mode": {
    "name": "ipython",
    "version": 2
   },
   "file_extension": ".py",
   "mimetype": "text/x-python",
   "name": "python",
   "nbconvert_exporter": "python",
   "pygments_lexer": "ipython2",
   "version": "2.7.6"
  }
 },
 "nbformat": 4,
 "nbformat_minor": 5
}
